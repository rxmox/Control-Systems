{
 "cells": [
  {
   "cell_type": "markdown",
   "metadata": {
    "slideshow": {
     "slide_type": "slide"
    }
   },
   "source": [
    "# Unit 5 - Full State Feedback"
   ]
  },
  {
   "cell_type": "markdown",
   "metadata": {
    "slideshow": {
     "slide_type": "fragment"
    }
   },
   "source": [
    "# Objectives\n",
    "- Design state feedback controllers to meet specified requirements\n",
    "\n",
    "# Advantages of Full State Feedback\n",
    "- Using full state feedback we can place all the closed-loop poles at any desired location!\n",
    "\n",
    "# Disadvantages of Full State Feedback\n",
    "- we need to measure all the states of the plant (not just the output)"
   ]
  },
  {
   "cell_type": "markdown",
   "metadata": {
    "slideshow": {
     "slide_type": "slide"
    }
   },
   "source": [
    "# Pole Placement\n",
    "- PD, PI controllers can be used to place one closed-loop pole at a desired location\n",
    "- Lead, Lag compensators can be used to place two closed-loop poles at desired locations\n",
    "- PID controllers can be used to place three closed-loop poles at desired locations\n",
    "\n",
    "Using these methods we cannot explicitly enforce where the remaining poles of the complementary sensitivity function are. \n",
    "\n",
    "It can happen that these ``extra'' poles end up being the dominant poles. \n",
    "\n",
    "Using full state feedback we get around this limitation!\n",
    "\n",
    "However, as we will see, we still do not specify the location of closed-loop zeros. So we still need to check whether the system behaves as we expect."
   ]
  },
  {
   "cell_type": "markdown",
   "metadata": {
    "slideshow": {
     "slide_type": "slide"
    }
   },
   "source": [
    "# General Observation\n",
    "\n",
    "- State space methods are less graphical than transfer function based methods\n",
    "- However, they are based fully on linear algebra which opens up a huge toolbox for analysis methods!"
   ]
  },
  {
   "cell_type": "markdown",
   "metadata": {
    "slideshow": {
     "slide_type": "slide"
    }
   },
   "source": [
    "# So What Does Full State Feed Back Look Like?"
   ]
  },
  {
   "cell_type": "markdown",
   "metadata": {
    "slideshow": {
     "slide_type": "fragment"
    }
   },
   "source": [
    "# In Class Activity!\n",
    "\n",
    "Draw representation of a state space system as a network of interconnected blocks. \n",
    "\n",
    "- Use the following blocks: $A$, $B$, $C$, $D$, and $\\int$ (for a block where the output is the integral of the input)\n",
    "- Recall the state space equations:\n",
    "$$\n",
    "\\begin{align*}\n",
    "\\frac{dx}{dt} &= A x + B u \\\\\n",
    "y & = Cx + D u\n",
    "\\end{align*}\n",
    "$$"
   ]
  },
  {
   "cell_type": "markdown",
   "metadata": {
    "slideshow": {
     "slide_type": "fragment"
    }
   },
   "source": [
    "![openLoopSS](openLoopSS.png \"Open Loop\")\n",
    "\n",
    "Double lines denote vectors of measured variables."
   ]
  },
  {
   "cell_type": "markdown",
   "metadata": {
    "slideshow": {
     "slide_type": "fragment"
    }
   },
   "source": [
    "# Full State Feedback\n",
    "\n",
    "- Instead of feeding back the output of the plant, the entire state of the plant is fed back.\n",
    "\n",
    "![closedLoopSS](closedLoopSS.png \"Closed Loop\")"
   ]
  },
  {
   "cell_type": "markdown",
   "metadata": {
    "slideshow": {
     "slide_type": "fragment"
    }
   },
   "source": [
    "# Simplified Diagram of Full State Feedback\n",
    "\n",
    "![closedLoopSSsimple](closedLoopSSsimple.png \"Closed Loop\")"
   ]
  },
  {
   "cell_type": "markdown",
   "metadata": {
    "slideshow": {
     "slide_type": "fragment"
    }
   },
   "source": [
    "# Representing the Feedback in terms of Equations\n",
    "\n",
    "The state space representation of a system is:\n",
    "$$\n",
    "\\begin{align*}\n",
    "\\frac{dx(t)}{dt} &= A x(t) + B u(t) \\\\\n",
    "y(t) & = Cx(t) + D u(t)\n",
    "\\end{align*}\n",
    "$$\n",
    "\n",
    "The signal that is fed back is the state multiplied by a gain matrix $K = [k_1, \\ k_2, \\ldots, k_n]$, where $n$ is the number of states of the plant $P(s)$:\n",
    "$$\n",
    "u(t) = -K x(t) + r(t)\n",
    "$$\n",
    "\n",
    "When we substitute the expression for the input $u$ into state update equation we get:\n",
    "$$\n",
    "\\begin{align*}\n",
    "\\frac{dx(t)}{dt} &= A x(t) + B (-K x(t) + r(t)) \\\\\n",
    "& = (A - BK)x(t) + B r(t) \n",
    "\\end{align*}\n",
    "$$\n",
    "Which leads to the following state space representation of the closed-loop system:\n",
    "$$\n",
    "\\begin{align*}\n",
    "\\frac{dx(t)}{dt} &= (A - BK)x(t) + B r(t),  \\\\\n",
    "y(t) & = Cx(t) + D u(t).\n",
    "\\end{align*}\n",
    "$$\n",
    "This is a key equation! Sometimes it will be handy to express it as:\n",
    "$$\n",
    "\\begin{align*}\n",
    "\\frac{dx(t)}{dt} &= A_{cl}x(t) + B_{cl} r(t),  \\\\\n",
    "y(t) & = C_{cl}x(t) + D_{cl} u(t),\n",
    "\\end{align*}\n",
    "$$\n",
    "where subscript $cl$ stands for *closed loop*."
   ]
  },
  {
   "cell_type": "markdown",
   "metadata": {
    "slideshow": {
     "slide_type": "slide"
    }
   },
   "source": [
    "# Pole Placement for Plants in Controllable Canonical Form\n",
    "\n",
    "Suppose that we have a plant $P(s)$. We have represented the plant in controllable canonical form with corresponding state $x$. We can measure all the variables in $x$, and we have implemented a feedback path with gains $K = [k_1, \\ k_2, \\ \\ldots, \\ k_n]$, where $n$ is the number of states in $x$. \n",
    "\n",
    "Objective: design $K$ such that the closed-loop system meets the design requirements.\n",
    "\n",
    "To apply the pole-placement approach when the plant is in controllable canonical form we take the following steps:\n",
    "1. Determine the characteristic equation for the closed-loop system\n",
    "2. Decide upon all desired closed-loop pole locations and determine a desired characteristic equation\n",
    "3. Equate the coefficients of the characteristic equations from steps 1 and 2 and solve for $k_i$.\n",
    "\n",
    "\n"
   ]
  },
  {
   "cell_type": "markdown",
   "metadata": {
    "slideshow": {
     "slide_type": "fragment"
    }
   },
   "source": [
    "# Recall Controllable Canonical Form\n",
    "\n",
    "*The following material is presented in more detail in Unit 1, and the corresponding videos in that Unit. I am only stating the final results here.* \n",
    "\n",
    "Remember that a state space representation is not unique! \n",
    "\n",
    "It is possible to convert one valid state space representation ($A$, $B$, $C$, $D$, $x$) to another ($\\tilde{A}$, $\\tilde{B}$, $\\tilde{C}$, $\\tilde{D}$, $\\tilde{x}$) using the following transformation:\n",
    "$$\n",
    "\\begin{align*}\n",
    "\\tilde{A} &= TAT^{-1} \\\\\n",
    "\\tilde{B} &= TB \\\\\n",
    "\\tilde{C} &= CT^{-1} \\\\\n",
    "\\tilde{D} &= D \\\\\n",
    "\\tilde{x}(t) &= Tx(t)\n",
    "\\end{align*}\n",
    "$$\n",
    "\n",
    "A system in controllable canonical form has a state space representation of the following form:\n",
    "$$\n",
    "\\begin{align*}\n",
    "A &= \\begin{bmatrix} \n",
    "    0 & 1 & 0 & \\cdots & 0 \\\\\n",
    "    \\vdots & 0 & \\ddots & \\ddots & \\vdots \\\\\n",
    "    \\vdots & \\vdots & \\ddots & \\ddots & 0 \\\\\n",
    "    0 & 0 & \\cdots & 0 & 1 \\\\\n",
    "    -a_0 & -a_1 & \\cdots & -a_{n-2} & -a_{n-1} \\end{bmatrix} \\\\\n",
    "B &= \\begin{bmatrix} 0 \\\\ \\vdots \\\\ 0 \\\\ 1 \\end{bmatrix} \\\\\n",
    "C &= \\begin{bmatrix} b_0 & b_1 & \\cdots & b_{n-2} & b_{n-1} \\end{bmatrix} \\\\\n",
    "D &= 0\n",
    "\\end{align*}\n",
    "$$\n",
    "\n",
    "Controllable canonical form can be directly related to the transfer function representation of a system. The transfer function for the above system is:\n",
    "$$ \n",
    "\\begin{align*}\n",
    "G(s) = \\frac{b_{n-1}s^{n-1} + b_{n-2}s^{n-1} + \\cdots b_1 s + b_0}{s^n + a_{n-1}s^{n-1} + \\cdots + a_{1}s + a_0}\n",
    "\\end{align*}\n",
    "$$\n",
    "\n",
    "# Key Observation\n",
    "\n",
    "The closed-loop poles of a system are defined by the *characteristic equation*:\n",
    "$$\n",
    "s^n + a_{n-1}s^{n-1} + \\cdots + a_{1}s + a_0 = 0\n",
    "$$\n",
    "\n",
    "This equation can essentially be extracted directly from $A$ matrix in the state space representation if it is in controllable canonical form. "
   ]
  },
  {
   "cell_type": "markdown",
   "metadata": {
    "slideshow": {
     "slide_type": "slide"
    }
   },
   "source": [
    "# Step 1 - Determining the characteristic equation of the closed-loop system\n",
    "\n",
    "When the state space representation is in controllable canonical form, the $A$ matrix of the closed-loop system is:\n",
    "$$\n",
    "\\begin{align*}\n",
    "A_{cl} &= (A - BK) \\\\\n",
    "&= \\begin{bmatrix} \n",
    "    0 & 1 & 0 & \\cdots & 0 \\\\\n",
    "    \\vdots & 0 & \\ddots & \\ddots & \\vdots \\\\\n",
    "    \\vdots & \\vdots & \\ddots & \\ddots & 0 \\\\\n",
    "    0 & 0 & \\cdots & 0 & 1 \\\\\n",
    "    -a_0 & -a_1 & \\cdots & -a_{n-2} & -a_{n-1} \\end{bmatrix}  - \\begin{bmatrix} 0 \\\\ \\vdots \\\\ 0 \\\\ 1 \\end{bmatrix} \\begin{bmatrix} k_1 & k_2 & \\cdots & k_n \\end{bmatrix} \\\\\n",
    "&= \\begin{bmatrix} \n",
    "    0 & 1 & 0 & \\cdots & 0 \\\\\n",
    "    \\vdots & 0 & \\ddots & \\ddots & \\vdots \\\\\n",
    "    \\vdots & \\vdots & \\ddots & \\ddots & 0 \\\\\n",
    "    0 & 0 & \\cdots & 0 & 1 \\\\\n",
    "    -a_0-k_1 & -a_1-k_2 & \\cdots & -a_{n-2}-k_{n-1} & -a_{n-1}-k_n \\end{bmatrix}\n",
    "\\end{align*}\n",
    "$$\n",
    "\n",
    "# Observation\n",
    "\n",
    "We can determine the characteristic equation of the closed loop system by inspection!\n",
    "\n",
    "It is:\n",
    "$$\n",
    "s^n + (a_{n-1}+k_n)s^{n-1} + (a_{n-2}+k_{n-1})s^{n-2} + \\cdots + (a_1+k_2)s + (a_0+k_1) = 0\n",
    "$$\n",
    "This is the equation that defines the closed-loop poles of the system.\n"
   ]
  },
  {
   "cell_type": "markdown",
   "metadata": {
    "slideshow": {
     "slide_type": "slide"
    }
   },
   "source": [
    "# Step 2 - Determine the desired closed loop characteristic equation\n",
    "\n",
    "For a closed loop system with $n$ states, the characteristic equation is of order $n$. Therefore, it has $n$ poles. \n",
    "\n",
    "Therefore, our desired closed-loop characteristic equation should also be of order $n$. \n",
    "\n",
    "Suppose that we wish the closed-loop poles of the system to be: $-a_1$, $-a_2$, $\\ldots$, $-a_n$.\n",
    "\n",
    "The characteristic equation for a system with those poles is:\n",
    "$$\n",
    "\\begin{align*}\n",
    "(s+a_1)(s+a_2)\\cdots(s+a_n) &= 0 \\\\\n",
    "s^n + d_{n-1}s^{n-1} + d_{n-2}s^{n-2} + \\cdots + d_2s^2 + d_1s + d_0 &= 0,\n",
    "\\end{align*}\n",
    "$$\n",
    "where the $d_i$'s are the desired coefficients.\n"
   ]
  },
  {
   "cell_type": "markdown",
   "metadata": {
    "slideshow": {
     "slide_type": "slide"
    }
   },
   "source": [
    "# Step 3 - Equate coefficients of desired and actual closed-loop characteristic equations\n",
    "\n",
    "In this step, we are selecting $k_i$ so that the characteristic equation of the closed-loop system equals the desired characteristic equation. \n",
    "\n",
    "Equating the coefficients leading the $s^{n-1}$ term:\n",
    "$$\n",
    "\\begin{align*}\n",
    "d_{n-1} = a_{n-1} + k_n\n",
    "\\end{align*}\n",
    "$$\n",
    "\n",
    "Equating the coefficients leading the $s^{n-2}$ term:\n",
    "$$\n",
    "\\begin{align*}\n",
    "d_{n-2} = a_{n-2} + k_{n-1}\n",
    "\\end{align*}\n",
    "$$\n",
    "\n",
    "In general, we have:\n",
    "$$\n",
    "d_i = a_i + k_{i+1}, i = 0, 1, \\ldots, n-1.\n",
    "$$\n",
    "From this set of equations we can solve for $k_i$ and determine the controller that will result in the desired characteristic equation!\n"
   ]
  },
  {
   "cell_type": "markdown",
   "metadata": {
    "slideshow": {
     "slide_type": "slide"
    }
   },
   "source": [
    "# Interesting Observations\n",
    "- It appears that it is possible to place the poles wherever we want, for any system! This is not actually the case. There is a property called *controllablility* of a system. If a system is controllable, then it is possible to place the poles wherever we want! Controllability is a topic that is further studied in ENEL541. In this course we will assume that the system under investigation is controllable.\n",
    "- The zeros of the closed-loop system are the same as the zeros of the plant (the $C$ matrix of the closed-loop system is the same as the $C$ matrix of the plant, and the coefficients of the $C$ matrix are the coefficients of the numerator of the transfer function representation).\n",
    "\n",
    "\n"
   ]
  },
  {
   "cell_type": "markdown",
   "metadata": {
    "slideshow": {
     "slide_type": "slide"
    }
   },
   "source": [
    "# Example\n",
    "\n",
    "Given a plant $P(s)$ with the following state space representation:\n",
    "$$\n",
    "\\begin{align*}\n",
    "A &= \\begin{bmatrix} 0 & 1 & 0 \\\\ 0 & 0 & 1 \\\\ 0 & -4 & -5 \\end{bmatrix}, \\\\\n",
    "B &= \\begin{bmatrix} 0 \\\\ 0 \\\\ 1 \\end{bmatrix} ,\\\\\n",
    "C &= \\begin{bmatrix} 100 & 20 & 0 \\end{bmatrix}, \\\\\n",
    "D &= 0.\n",
    "\\end{align*}\n",
    "$$\n",
    "Suppose that we can measure every state in $x(t)$.  \n",
    "\n",
    "Suppose that we wish the closed-loop system to have poles at $-5.4 \\pm j 7.2$ and $-5.1$. "
   ]
  },
  {
   "cell_type": "markdown",
   "metadata": {
    "slideshow": {
     "slide_type": "fragment"
    }
   },
   "source": [
    "# Solution\n",
    "\n",
    "# Step 1 - Determining the characteristic equation of the closed-loop system\n",
    "\n",
    "The $A$ matrix of the closed-loop system in this case is:\n",
    "$$\n",
    "\\begin{align*}\n",
    "A_{cl} &= (A - BK) \\\\\n",
    "&= \\begin{bmatrix} \n",
    "    0 & 1 & 0 \\\\\n",
    "    0 & 0 & 1 \\\\\n",
    "    0 & -4 & -5 \\end{bmatrix}  \n",
    "    - \\begin{bmatrix} 0 \\\\ 0 \\\\ 1 \\end{bmatrix} \n",
    "    \\begin{bmatrix} k_1 & k_2 & k_3 \\end{bmatrix} \\\\\n",
    "&= \\begin{bmatrix} \n",
    "    0 & 1 & 0 \\\\\n",
    "    0 & 0 & 1 \\\\\n",
    "    -k_1 & -(4+k_2) & -(5+k_3) \\end{bmatrix}. \n",
    "\\end{align*}\n",
    "$$\n",
    "\n",
    "From $A_{cl}$ we can determine that the characteristic equation of the closed-loop system is:\n",
    "$$\n",
    "s^3 + (5+k_3)s^2 + (4+k_2)s + k_1 = 0.\n",
    "$$\n",
    "\n",
    "# Step 2 - Determine the desired closed loop characteristic equation\n",
    "\n",
    "Using the desired closed loop poles, we can determine that the desired characteristic equation is:\n",
    "$$\n",
    "\\begin{align*}\n",
    "(s+5.4-j7.2)(s+5.4+j7.2)(s+5.1) &= 0 \\\\\n",
    "s^3 + 15.9s^2 + 136.08s + 413.1 &= 0\n",
    "\\end{align*}\n",
    "$$\n",
    "\n",
    "# Step 3 - Equate coefficients of desired and actual closed-loop characteristic equations\n",
    "\n",
    "Equating coefficients of the two characteristic equations we get the following equations:\n",
    "$$\n",
    "\\begin{align*}\n",
    "5+k_3 &= 15.9 \\\\\n",
    "4+k_2 &= 136.08 \\\\\n",
    "k_1 &= 413.1\n",
    "\\end{align*}\n",
    "$$\n",
    "From these equations we can solve for $k_1$, $k_2$ and $k_3$:\n",
    "$$\n",
    "\\begin{align*}\n",
    "k_1 &= 413.1 \\\\\n",
    "k_2 &= 132.08 \\\\\n",
    "k_3 &= 10.9\n",
    "\\end{align*}\n",
    "$$\n",
    "which means that the state-feedback gain matrix is \n",
    "$$\n",
    "K = \\begin{bmatrix} 413.1 & 132.08 & 10.9 \\end{bmatrix}.\n",
    "$$\n",
    "\n",
    "Thus the state space representation of the closed-loop system is:\n",
    "$$\n",
    "\\begin{align*}\n",
    "\\dot{x}(t)&= A_{cl}x(t) + B_{cl}r(t) \\\\\n",
    "y(t) &= C_{cl}x(t) + D_{cl}r(t)\n",
    "\\end{align*}\n",
    "$$\n",
    "where\n",
    "$$\n",
    "\\begin{align*}\n",
    "A_{cl} &= \\begin{bmatrix} 0 & 1 & 0 \\\\ 0 & 0 & 1 \\\\ -413.1 & -136.08 & -15.9 \\end{bmatrix}, \\\\\n",
    "B_{cl} &= \\begin{bmatrix} 0 \\\\ 0 \\\\ 1 \\end{bmatrix} ,\\\\\n",
    "C_{cl} &= \\begin{bmatrix} 100 & 20 & 0 \\end{bmatrix}, \\\\\n",
    "D_{cl} &= 0.\n",
    "\\end{align*}\n",
    "$$\n",
    "\n",
    "The closed-loop transfer function $T(s)$ corresponding to this state space representation is:\n",
    "$$\n",
    "\\begin{align*}\n",
    "T(s) &= \\frac{20(s+5)}{s^3 + 15.9s^2 + 136.08s + 413.1} \\\\\n",
    "&= \\frac{20(s+5)}{(s+5.4-j7.2)(s+5.4+j7.2)(s+5.1)} \n",
    "\\end{align*}\n",
    "$$"
   ]
  },
  {
   "cell_type": "markdown",
   "metadata": {
    "slideshow": {
     "slide_type": "slide"
    }
   },
   "source": [
    "# When the state space representation is not in controllable canonical form\n",
    "\n",
    "1. Transform the state space representation into controllable canonical form\n",
    "2. Determine the characteristic equation for the closed-loop system\n",
    "3. Decide upon all desired closed-loop pole locations and determine a desired characteristic equation\n",
    "4. Equate the coefficients of the characteristic equations from steps 1 and 2 and solve for $k_i$.\n",
    "5. Transform the state space representation of the closed loop system back into the original state"
   ]
  },
  {
   "cell_type": "markdown",
   "metadata": {
    "slideshow": {
     "slide_type": "fragment"
    }
   },
   "source": [
    "# Key Observations\n",
    "\n",
    "- Step 1 can be performed automatically using Python and the command: ct.canonical_form(P)\n",
    "- Step 1 can be performed manually by first diagonalizing $A$, using the formula to determine the transfer function of P, then write down the Controllable Canonical Form.\n",
    "- The key thing to remember is to transform the system back into a representation with the original state variables. This is important because sensors are being used to measure the state. Every time that we apply a transformation $T$ to the state space equations, the state variables change (even though we are not changing the dynamics of the system)."
   ]
  },
  {
   "cell_type": "markdown",
   "metadata": {
    "slideshow": {
     "slide_type": "slide"
    }
   },
   "source": [
    "# Transforming the Controller Gain Matrix\n",
    "\n",
    "In step 5, when transforming the closed-loop system into a state space represenation with the original state vector, we need adjust the controller gain matrix $K$.\n",
    "\n",
    "Consider the following steps. \n",
    "\n",
    "The original state space representation, is:\n",
    "$$\n",
    "\\begin{align*}\n",
    "\\dot{x}(t) &= A x(t) + Bu(t) \\\\\n",
    "y(t) &= C x(t) + D u(t)\n",
    "\\end{align*}\n",
    "$$\n",
    "The key is that $x$ is measurable in this representation. \n",
    "\n",
    "In order to design the controller, we have transformed the state space representation into an equivalent representation:\n",
    "$$\n",
    "\\begin{align*}\n",
    "\\dot{\\tilde{x}}(t)&= \\tilde{A} \\tilde{x}(t) + \\tilde{B}u(t) \\\\\n",
    "y(t) &= \\tilde{C} \\tilde{x}(t) + \\tilde{D} u(t)\n",
    "\\end{align*}\n",
    "$$\n",
    "where \n",
    "$$\n",
    "\\begin{align*}\n",
    "\\tilde{A} &= TAT^{-1}, \\\\\n",
    "\\tilde{B} &= TB, \\\\\n",
    "\\tilde{C} &= CT^{-1}, \\\\\n",
    "\\tilde{D} &=D,\\\\\n",
    "\\tilde{x}(t) &= Tx(t).\n",
    "\\end{align*}\n",
    "$$\n",
    "\n",
    "We designed the controller based on the transformed representation. So the final closed loop representation of the system is:\n",
    "$$\n",
    "\\begin{align*}\n",
    "\\dot{\\tilde{x}}(t) &= (\\tilde{A}- \\tilde{B}\\tilde{K})\\tilde{x}(t) + \\tilde{B}r(t) \\\\\n",
    "y(t) &= \\tilde{C}\\tilde{x}(t) + \\tilde{D}r(t)\n",
    "\\end{align*}\n",
    "$$\n",
    "\n",
    "We want to transform this representation back into a representation with state $x$. We know the transform matrix $T$ from step 1, where we transformed the original representation into controllable canonical form. Consider the state equation first:\n",
    "$$\n",
    "\\begin{align*}\n",
    "\\dot{\\tilde{x}}(t) &= (\\tilde{A}- \\tilde{B}\\tilde{K})\\tilde{x}(t) + \\tilde{B}r(t) \\\\\n",
    "\\end{align*}\n",
    "$$\n",
    "Multiply both sides of the equality from the left by $T^{-1}$:\n",
    "$$\n",
    "\\begin{align*}\n",
    "T^{-1} \\dot{\\tilde{x}}(t) &= T^{-1} (\\tilde{A}- \\tilde{B}\\tilde{K})\\tilde{x}(t) + T^{-1} \\tilde{B}r(t) \\\\\n",
    "T^{-1} \\dot{\\tilde{x}}(t) &=  (T^{-1} \\tilde{A} - T^{-1} \\tilde{B}\\tilde{K})TT^{-1}\\tilde{x}(t) + T^{-1} \\tilde{B}r(t) \\\\\n",
    "T^{-1} \\dot{\\tilde{x}}(t) &=  (T^{-1} \\tilde{A} T - T^{-1} \\tilde{B}\\tilde{K}T)T^{-1}\\tilde{x}(t) + T^{-1} \\tilde{B}r(t) \n",
    "\\end{align*}\n",
    "$$\n",
    "Using the above expressions for $\\tilde{A}$, $\\tilde{B}$, and $\\tilde{x}$, we have:\n",
    "$$\n",
    "\\begin{align*}\n",
    "\\dot{x}(t) &=  (A - B\\tilde{K}T)x(t) + Br(t) \n",
    "\\end{align*}\n",
    "$$\n",
    "This is the state update equation for the closed loop using state $x$!. Note that the controller that we designed $\\tilde{K}$ has been multiplied by $T$. So the new controller gain coefficients for the state space representation using the original state is:\n",
    "$$\n",
    "K = \\tilde{K}T.\n",
    "$$\n"
   ]
  },
  {
   "cell_type": "markdown",
   "metadata": {
    "slideshow": {
     "slide_type": "slide"
    }
   },
   "source": [
    "# Summary of step 5 - Transform the state space representation of the closed loop system back into the original state\n",
    "\n",
    "Denote the controller designed in Step 4 as $\\tilde{K}$. Then the final form of the controller is:\n",
    "$$\n",
    "K = \\tilde{K}T\n",
    "$$\n",
    "\n",
    "This leads to the following state space representation of the closed-loop system:\n",
    "$$\n",
    "\\begin{align*}\n",
    "\\frac{dx(t)}{dt} &= (A - BK)x(t) + B r(t),  \\\\\n",
    "y(t) & = Cx(t) + D u(t).\n",
    "\\end{align*}\n",
    "$$\n",
    "which can be expressed as:\n",
    "$$\n",
    "\\begin{align*}\n",
    "\\frac{dx(t)}{dt} &= A_{cl}x(t) + B_{cl} r(t),  \\\\\n",
    "y(t) & = C_{cl}x(t) + D_{cl} u(t),\n",
    "\\end{align*}\n",
    "$$\n",
    "\n"
   ]
  },
  {
   "cell_type": "markdown",
   "metadata": {
    "slideshow": {
     "slide_type": "slide"
    }
   },
   "source": [
    "# Example\n",
    "\n",
    "How to calculate the transformation matrix to convert a state space representation to controllable canonical form? "
   ]
  },
  {
   "cell_type": "markdown",
   "metadata": {
    "slideshow": {
     "slide_type": "slide"
    }
   },
   "source": [
    "# Conclusion\n",
    "\n",
    "- In this lecture full state feedback was introduced\n",
    "- The advantage of full state feedback is that the closed-loop poles can be placed anywhere (for systems that are controllable)\n",
    "- The disadvantage of full state feedback is that all the states must be measured\n",
    "- The design procedure consists of selecting the gain coefficients of the state feedback vector $K$\n",
    "- An approach for pole placement that depends on the representation being in controllable canonical form was presented and illustrated using an example"
   ]
  },
  {
   "cell_type": "markdown",
   "metadata": {
    "slideshow": {
     "slide_type": "fragment"
    }
   },
   "source": [
    "# ENEL 541\n",
    "\n",
    "- Look at sampled data\n",
    "- conditions on the system when you can't use full state feedback (controllabilty)\n",
    "- what if we can't measure all the states? Can we still use full state feedback? Yes! (observability)\n",
    "- optimal control\n",
    "\n"
   ]
  }
 ],
 "metadata": {
  "celltoolbar": "Slideshow",
  "kernelspec": {
   "display_name": "Python 3 (ipykernel)",
   "language": "python",
   "name": "python3"
  },
  "language_info": {
   "codemirror_mode": {
    "name": "ipython",
    "version": 3
   },
   "file_extension": ".py",
   "mimetype": "text/x-python",
   "name": "python",
   "nbconvert_exporter": "python",
   "pygments_lexer": "ipython3",
   "version": "3.11.7"
  },
  "rise": {
   "scroll": true
  },
  "toc": {
   "base_numbering": 1,
   "nav_menu": {},
   "number_sections": true,
   "sideBar": false,
   "skip_h1_title": false,
   "title_cell": "Table of Contents",
   "title_sidebar": "Contents",
   "toc_cell": false,
   "toc_position": {},
   "toc_section_display": true,
   "toc_window_display": false
  }
 },
 "nbformat": 4,
 "nbformat_minor": 2
}
