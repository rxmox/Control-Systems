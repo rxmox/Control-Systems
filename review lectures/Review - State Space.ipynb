{
 "cells": [
  {
   "cell_type": "markdown",
   "id": "46940288",
   "metadata": {
    "slideshow": {
     "slide_type": "slide"
    }
   },
   "source": [
    "# State Space\n",
    "\n",
    "Large, multi-equation systems start to become tedious to put into transfer function form (requires substituting equations into each other). This can make the transfer function error-prone. \n",
    "\n",
    "The state space representation offers a nice alternative.\n",
    "\n",
    "The main idea is to reduce high-order differential equations into an equivalent set of first order differential equations. \n",
    "\n",
    "The state-space equations have the following form:\n",
    "$$\n",
    "\\begin{align*}\n",
    "\\frac{\\text{d}x(t)}{\\text{dt}} &= Ax(t) + Bu(t), \\\\\n",
    "y(t) &= C x(t) + D u(t),\n",
    "\\end{align*}\n",
    "$$\n",
    "where $A$, $B$, $C$, $D$ are constant matrices, and $x$ is called the state vector. \n",
    "\n",
    "Any linear system can be written in state-space form. It is just another representation of a system. \n",
    "\n",
    "Advantages of State-Space:\n",
    "- Multi-input, multi-output systems are much easier to handle! This is the advent of \"Modern\" control! Enables the possibility to control more complicated systems.\n",
    "- Easier to combine multiple differential equations into one expression (don't need to substitute equations into each other)\n",
    "- Can use linear algebra to find useful properties of the system (such as the poles)\n",
    "- high-order differential equations are reduced to first order differential equations, so writing down solutions is easier.\n"
   ]
  },
  {
   "cell_type": "markdown",
   "id": "7cce604c",
   "metadata": {
    "slideshow": {
     "slide_type": "slide"
    }
   },
   "source": [
    "# Using State Space to Represent a Circuit\n",
    "\n",
    "![Electric Circuit](circuit.png \"Electric Circuit\")"
   ]
  },
  {
   "cell_type": "markdown",
   "id": "ddd113b3",
   "metadata": {
    "slideshow": {
     "slide_type": "fragment"
    }
   },
   "source": [
    "# Obtain a model for the circuit using state-space representation\n",
    "\n",
    "Let $v_{in}$ be the input and $i_{L}$ be the output. \n",
    "\n",
    "For the state vector, use:\n",
    "$$\n",
    "\\begin{align*}\n",
    "x(t) = \\begin{bmatrix} v_c(t) \\\\ i_L(t) \\end{bmatrix},\n",
    "\\end{align*}\n",
    "$$\n",
    "where $v_c$ is the voltage across the capacitor, and $i_L$ is the current through the inductor. \n"
   ]
  },
  {
   "cell_type": "markdown",
   "id": "aa641bfb",
   "metadata": {
    "slideshow": {
     "slide_type": "fragment"
    }
   },
   "source": [
    "I will use the following notation:\n",
    "Current through $R_1$ is denoted $i_{R_1}$, and voltage across $R$ is denoted $v_{R_1}$. Same notation for all other elements. For notational clarity, I will drop the argument $t$, but keep in mind that all currents and voltages are actually functions of time. \n",
    "\n",
    "By looking at the node between $R_1$ and $R_2$ we can write:\n",
    "$$\n",
    "\\begin{align*}\n",
    "i_{R_1} + i_{C} &= i_{R_2} \\\\\n",
    "\\frac{v_C}{R_1} + C \\frac{dv_c}{dt} &= i_L \\\\\n",
    "\\frac{dv_c}{dt} &= \\frac{1}{C}i_L - \\frac{1}{RC_1}v_c\n",
    "\\end{align*}\n",
    "$$\n",
    "\n",
    "Now look at bottom loop:\n",
    "$$\n",
    "\\begin{align*}\n",
    "-v_{in} + v_c + v_{R_2} + v_L &= 0 \\\\\n",
    "-v_{in} + v_c + i_L R_2 + L \\frac{d i_L}{dt} &= 0 \\\\\n",
    "\\frac{d i_L}{dt} &= \\frac{1}{L}v_{in} - \\frac{1}{L}v_c - \\frac{R_2}{L} i_L\n",
    "\\end{align*}\n",
    "$$\n",
    "\n",
    "We have two first order differential equations that contain only the state variables, so we are ready to write the two equations in matrix form. \n",
    "$$\n",
    "\\begin{align*}\n",
    "\\frac{dx}{dt} &= \\begin{bmatrix} \\frac{dv_c}{dt} \\\\ \\frac{di_L}{dt} \\end{bmatrix} \\\\\n",
    "&= \\begin{bmatrix} \\frac{1}{C}i_L - \\frac{1}{RC_1}v_c \\\\ \\frac{1}{L}v_{in} - \\frac{1}{L}v_c - \\frac{R_2}{L} i_L \\end{bmatrix} \\\\\n",
    "&= \\begin{bmatrix} -\\frac{1}{R_1C} & \\frac{1}{C} \\\\ -\\frac{1}{L} & -\\frac{R_2}{L} \\end{bmatrix} \\begin{bmatrix} v_c \\\\ i_L \\end{bmatrix} + \\begin{bmatrix} 0 \\\\ \\frac{1}{L} \\end{bmatrix} v_{in}\n",
    "\\end{align*}\n",
    "$$\n",
    "\n",
    "The output can also be expressed in terms of the state variables and input:\n",
    "$$\n",
    "\\begin{align*}\n",
    "y &= i_L \\\\\n",
    "&= \\begin{bmatrix} 0 & 1 \\end{bmatrix} + 0 v_{in}\n",
    "\\end{align*}\n",
    "$$\n",
    "\n",
    "Thus, we have:\n",
    "$$\n",
    "\\begin{align*}\n",
    "A &= \\begin{bmatrix} -\\frac{1}{R_1C} & \\frac{1}{C} \\\\ -\\frac{1}{L} & -\\frac{R_2}{L} \\end{bmatrix} \\\\\n",
    "B &= \\begin{bmatrix} 0 \\\\ \\frac{1}{L} \\end{bmatrix} \\\\\n",
    "C &= \\begin{bmatrix} 0 & 1 \\end{bmatrix} \\\\\n",
    "D &= 0\n",
    "\\end{align*}\n",
    "$$"
   ]
  },
  {
   "cell_type": "markdown",
   "id": "006c2144",
   "metadata": {
    "slideshow": {
     "slide_type": "slide"
    }
   },
   "source": [
    "# 3 Interesting facts about state space:\n",
    "\n",
    "1. matrices, $A$, $B$, $C$, $D$ are not unique!\n",
    "2. can convert from state space to transfer function (and back),\n",
    "3. eigenvalues of $A$ matrix are the poles of the transfer function!"
   ]
  },
  {
   "cell_type": "markdown",
   "id": "5ef04e2f",
   "metadata": {
    "slideshow": {
     "slide_type": "slide"
    }
   },
   "source": [
    "# Matrices $A$, $B$, $C$ and $D$ are not unique!\n",
    "\n",
    "Consider a state space representation:\n",
    "$$\n",
    "\\begin{align*}\n",
    "\\dot{x}(t) &= Ax(t) + Bu(t) \\\\\n",
    "y(t) &= Cx(t) + Du(t)\n",
    "\\end{align*}\n",
    "$$\n",
    "Change $x(t)$ to $Tx(t)$, so we have:\n",
    "$$\n",
    "\\begin{align*}\n",
    "\\tilde{x}(t)&=Tx(t) \\\\\n",
    "x(t) &=T^{-1}\\tilde{x}(t) \\\\\n",
    "\\dot{x}(t) &=T^{-1}\\dot{\\tilde{x}}(t)\n",
    "\\end{align*}\n",
    "$$\n",
    "which results in:\n",
    "$$\n",
    "\\begin{align*}\n",
    "T^{-1}\\dot{\\tilde{x}}(t) &= AT^{-1}\\tilde{x}(t) + Bu(t) \\\\\n",
    "\\dot{\\tilde{x}}(t) &= TAT^{-1}\\tilde{x}(t) + TBu(t) \\\\\n",
    " &= \\tilde{A}\\tilde{x}(t) + \\tilde{B}u(t) \n",
    "\\end{align*}\n",
    "$$\n",
    "and\n",
    "$$\n",
    "\\begin{align*}\n",
    "y(t) &= CT^{-1}\\tilde{x}(t) + Du(t) \\\\\n",
    "&=\\tilde{C}\\tilde{x}(t) + Du(t)\n",
    "\\end{align*}\n",
    "$$\n",
    "Note that:\n",
    "- $u$ and $y$ didn't change,\n",
    "- $A$, $B$, $C$, $D$, and $x$ are different\n",
    "\n",
    "\n"
   ]
  },
  {
   "cell_type": "markdown",
   "id": "4b11c7a6",
   "metadata": {
    "slideshow": {
     "slide_type": "slide"
    }
   },
   "source": [
    "# Different State Space representation, but same transfer function!\n",
    "\n",
    "To determine transfer function from state space representation, take Laplace transform:\n",
    "$$\n",
    "\\begin{align*}\n",
    "\\mathcal{L}[\\dot{x}(t)] &= \\mathcal{L}[Ax(t) + Bu(t)] \\\\\n",
    "sX(s) &= AX(s) + BU(s)\\\\\n",
    "X(s) &= (sI - A)^{-1}BU(s)\n",
    "\\end{align*}\n",
    "$$\n",
    "Then take Laplace transform of second equation:\n",
    "$$\n",
    "\\begin{align*}\n",
    "\\mathcal{L}[y(t)] &= \\mathcal{L}[Cx(t) + Du(t)]\\\\\n",
    "Y(s) &= CX(s) + DU(s) \\\\\n",
    "&= C(sI - A)^{-1}BU(s) = DU(s)\n",
    "\\end{align*}\n",
    "$$\n",
    "So we have found that\n",
    "$$\n",
    "\\begin{align*}\n",
    "G(s) = C(sI-A)^{-1}B + D\n",
    "\\end{align*}\n",
    "$$\n",
    "\n",
    "What about the transformed $A$, $B$, $C$, $D$ matrices?\n",
    "$$\n",
    "\\begin{align*}\n",
    "Y(s) &= \\tilde{C}(sI-\\tilde{A})^{-1}\\tilde{B}U(s) + \\tilde{D}U(s) \\\\\n",
    "&=CT^{-1}(sI-TAT^{-1})^{-1}TBU(s) + DU(s) \\\\\n",
    "&=CT^{-1}(sTT^{-1}-TAT^{-1})^{-1}TBU(s) + DU(s) \\\\\n",
    "&=CT^{-1}(T(sI-A)T^{-1})^{-1}TBU(s) + DU(s) \\\\\n",
    "&=CT^{-1}T(sI-A)^{-1}T^{-1}TBU(s) + DU(s) \\\\\n",
    "&=C(sI-A)^{-1}BU(s) + DU(s)\n",
    "\\end{align*}\n",
    "$$\n",
    "which is the same transfer function as before! \n",
    "\n"
   ]
  },
  {
   "cell_type": "markdown",
   "id": "9c2445a7",
   "metadata": {
    "slideshow": {
     "slide_type": "slide"
    }
   },
   "source": [
    "# Eigenvalues of $A$ are the poles of the transfer function!\n",
    "\n",
    "Consider a state space representation with a diagonal $A$ matrix. Note that for a diagonal matrix, the eigenvalues are the values on the diagonal.\n",
    "\n",
    "$$\n",
    "\\begin{align*}\n",
    "\\dot{x}(t) &= \\begin{bmatrix} \\lambda_1 & 0 & 0 \\\\ 0 & \\lambda_2 & 0 \\\\ 0 & 0 & \\lambda_3 \\end{bmatrix} x(t) + \\begin{bmatrix} b_1 \\\\ b_2 \\\\ b_3 \\end{bmatrix} \\\\\n",
    "y(t) &= \\begin{bmatrix} c_1 & c_2 & c_3 \\end{bmatrix}\n",
    "\\end{align*}\n",
    "$$\n",
    "\n",
    "Determine the transfer function:\n",
    "$$\n",
    "\\begin{align*}\n",
    "G(s) &= C(sI - A)^{-1}B + D \\\\\n",
    "&= \\begin{bmatrix} c_1 & c_2 & c_3 \\end{bmatrix} \\begin{bmatrix} s-\\lambda_1 & 0 & 0 \\\\ 0 & s-\\lambda_2 & 0 \\\\ 0 & 0 & s-\\lambda_3 \\end{bmatrix}^{-1}\\begin{bmatrix} b_1 \\\\ b_2 \\\\ b_3 \\end{bmatrix} \\\\\n",
    "&= \\begin{bmatrix} c_1 & c_2 & c_3 \\end{bmatrix} \\begin{bmatrix} \\frac{1}{s-\\lambda_1} & 0 & 0 \\\\ 0 & \\frac{1}{s-\\lambda_2} & 0 \\\\ 0 & 0 & \\frac{1}{s-\\lambda_3} \\end{bmatrix}\\begin{bmatrix} b_1 \\\\ b_2 \\\\ b_3 \\end{bmatrix} \\\\\n",
    "&= \\begin{bmatrix} \\frac{c_1}{s-\\lambda_1} & \\frac{c_2}{s-\\lambda_2} & \\frac{c_3}{s-\\lambda_3}\\end{bmatrix}\\begin{bmatrix} b_1 \\\\ b_2 \\\\ b_3 \\end{bmatrix} \\\\\n",
    "&= \\frac{b_1c_1}{s-\\lambda_1} + \\frac{b_2c_2}{s-\\lambda_2} + \\frac{b_3c_3}{s-\\lambda_3} \\\\\n",
    "&= \\frac{...}{(s-\\lambda_1)(s-\\lambda_2)(s-\\lambda_3)}\n",
    "\\end{align*}\n",
    "$$"
   ]
  },
  {
   "cell_type": "markdown",
   "id": "7524bc15",
   "metadata": {
    "slideshow": {
     "slide_type": "slide"
    }
   },
   "source": [
    "# Future of Control System Engineering\n",
    "\n",
    "- Increasing automation = more control systems\n",
    "- Increasing requirement of efficiency = more control systems\n",
    "- Networked control\n",
    "- Nonlinear control\n",
    "- Data driven/adaptive/model predictive control\n",
    "- Robust control\n"
   ]
  },
  {
   "cell_type": "markdown",
   "id": "b923ff08",
   "metadata": {
    "slideshow": {
     "slide_type": "slide"
    }
   },
   "source": [
    "# Thanks\n",
    "\n",
    "- I have greatly enjoyed teaching this course!\n",
    "- I hope that each of you comes away with something from this course. Perhaps:\n",
    "    - systems thinking (time domain, frequency domain, Laplace domain)\n",
    "    - modelling (the way an engineer weaves between the mathematical world and the real world)\n",
    "    - feedback (the three advantages of control)\n",
    "- I have learned a lot\n",
    "\n",
    "# Thank you for being a great class. I appreciate it very much. \n",
    "I appreciate:\n",
    "- Your feedback\n",
    "- Your questions\n",
    "- Your patience\n",
    "- Your enthusiasm\n",
    "- Your hard work\n"
   ]
  },
  {
   "cell_type": "markdown",
   "id": "ce7e5425",
   "metadata": {
    "slideshow": {
     "slide_type": "slide"
    }
   },
   "source": [
    "# Controls at UofC\n",
    "\n",
    "- Fourth year capstone projects, Fourth year individual projects, ENEL 541, Master's degrees, PhD's\n",
    "\n",
    "!['westwick'](westwick.jpg \"westwick\")\n",
    "Biomedical applications\n",
    "\n",
    "!['jay_carriere'](jay_carriere.jpg \"jay_carriere\")\n",
    "Human robot interactions\n",
    "\n",
    "!['ramirez'](ramirez.png \"ramirez\")\n",
    "Autonomous vehicle systems\n",
    "\n",
    "![pieper](pieper.jpg \"pieper\") \n",
    "Control of wind turbines, helicopters, mechatronic systems\n",
    "\n",
    "\n"
   ]
  },
  {
   "cell_type": "markdown",
   "id": "227cf17e",
   "metadata": {
    "slideshow": {
     "slide_type": "slide"
    }
   },
   "source": [
    "# Good Luck on the final!\n",
    "\n",
    "Good luck next year on internship or 4th year!\n",
    "\n",
    "Both are awesome!"
   ]
  }
 ],
 "metadata": {
  "celltoolbar": "Slideshow",
  "kernelspec": {
   "display_name": "Python 3 (ipykernel)",
   "language": "python",
   "name": "python3"
  },
  "language_info": {
   "codemirror_mode": {
    "name": "ipython",
    "version": 3
   },
   "file_extension": ".py",
   "mimetype": "text/x-python",
   "name": "python",
   "nbconvert_exporter": "python",
   "pygments_lexer": "ipython3",
   "version": "3.10.10"
  },
  "rise": {
   "scroll": true
  },
  "toc": {
   "base_numbering": 1,
   "nav_menu": {},
   "number_sections": true,
   "sideBar": false,
   "skip_h1_title": false,
   "title_cell": "Table of Contents",
   "title_sidebar": "Contents",
   "toc_cell": false,
   "toc_position": {},
   "toc_section_display": true,
   "toc_window_display": false
  },
  "vscode": {
   "interpreter": {
    "hash": "98e1b4c145e722bff687764d28f1145cd6c08fc44999e411097fe10222cdba68"
   }
  }
 },
 "nbformat": 4,
 "nbformat_minor": 5
}
