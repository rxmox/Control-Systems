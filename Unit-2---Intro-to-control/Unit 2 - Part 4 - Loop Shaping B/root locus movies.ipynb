{
 "cells": [
  {
   "cell_type": "code",
   "execution_count": 2,
   "metadata": {},
   "outputs": [],
   "source": [
    "import numpy as np\n",
    "import matplotlib.pyplot as plt\n",
    "import matplotlib.animation as manimation\n",
    "import control as ct\n",
    "import enel441_utilities as eu"
   ]
  },
  {
   "cell_type": "code",
   "execution_count": 13,
   "metadata": {},
   "outputs": [
    {
     "data": {
      "image/png": "[encoded data removed]",
      "text/plain": [
       "<Figure size 640x480 with 1 Axes>"
      ]
     },
     "metadata": {},
     "output_type": "display_data"
    }
   ],
   "source": [
    "\n",
    "\n",
    "#poles = np.array([-2, -1, 0])\n",
    "#zeros = []\n",
    "\n",
    "poles = np.array([-1+1j, -1-1j])\n",
    "zeros = np.array([-1])\n",
    "\n",
    "den = eu.roots_to_polynomial(poles)\n",
    "num = eu.roots_to_polynomial(zeros)\n",
    "\n",
    "P = ct.tf(num,den)\n",
    "N = 1000\n",
    "K_vec = np.logspace(-1,2,N)\n",
    "\n",
    "# Define the meta data for the movie\n",
    "FFMpegWriter = manimation.writers['ffmpeg']\n",
    "metadata = dict(title='Root Locus', artist='Matplotlib',\n",
    "                comment='visualize closed loop poles moving')\n",
    "writer = FFMpegWriter(fps=15, metadata=metadata)\n",
    "\n",
    "# Initialize the movie\n",
    "fig, ax = plt.subplots(1)\n",
    "with writer.saving(fig, \"root_locus_video_2poles_1zero.mp4\", 100):\n",
    "    for ii in range(1,N):\n",
    "\n",
    "        cl_poles, K = ct.root_locus(P, plot=False, kvect=K_vec[0:ii])\n",
    "        ax.clear()\n",
    "        ax.plot([-5,1],[0,0],'k',linewidth=0.5, label='_nolegend_')\n",
    "        ax.plot([0,0],[-3,3],'k',linewidth=0.5, label='_nolegend_')\n",
    "        ax.plot(np.real(cl_poles), np.imag(cl_poles), 'k', label='_nolegend_')\n",
    "        ax.plot(np.real(poles),np.imag(poles), 'bx', markersize=10, markeredgewidth=3, label='open loop poles' )\n",
    "        ax.plot(np.real(zeros),np.imag(zeros), 'bo', markersize=10, markeredgewidth=3, label='_nolegend_' )\n",
    "        ax.plot(np.real(cl_poles[-1]),np.imag(cl_poles[-1]),'rx', markersize=10, markeredgewidth=3, label='closed loop poles')\n",
    "        ax.set_xlim(-5,1)\n",
    "        ax.set_ylim(-3,3)\n",
    "        ax.set_title('Root Locus')\n",
    "        ax.set_xlabel('Real')\n",
    "        ax.set_ylabel('Imaginary')\n",
    "        ann_str = 'K='+ str(np.round(K_vec[ii],2))\n",
    "        ax.annotate(ann_str,(-2.5,2.5),fontsize=20)\n",
    "        ax.legend()\n",
    "        writer.grab_frame()\n",
    "       "
   ]
  },
  {
   "cell_type": "code",
   "execution_count": 17,
   "metadata": {},
   "outputs": [
    {
     "data": {
      "text/html": [
       "\n",
       "<div align=\"middle\">\n",
       "<video width=\"80%\" controls>\n",
       "      <source src=\"root_locus_video_2poles_1zero.mp4\" type=\"video/mp4\">\n",
       "</video></div>"
      ],
      "text/plain": [
       "<IPython.core.display.HTML object>"
      ]
     },
     "execution_count": 17,
     "metadata": {},
     "output_type": "execute_result"
    }
   ],
   "source": [
    "from IPython.display import HTML\n",
    "\n",
    "HTML(\"\"\"\n",
    "<div align=\"middle\">\n",
    "<video width=\"80%\" controls>\n",
    "      <source src=\"root_locus_video_2poles_1zero.mp4\" type=\"video/mp4\">\n",
    "</video></div>\"\"\")"
   ]
  },
  {
   "cell_type": "code",
   "execution_count": null,
   "metadata": {},
   "outputs": [],
   "source": [
    "from IPython.display import HTML\n",
    "\n",
    "HTML(\"\"\"\n",
    "<div align=\"middle\">\n",
    "<video width=\"80%\" controls>\n",
    "      <source src=\"root_locus_video_3poles.mp4\" type=\"video/mp4\">\n",
    "</video></div>\"\"\")"
   ]
  },
  {
   "cell_type": "code",
   "execution_count": 11,
   "metadata": {},
   "outputs": [
    {
     "data": {
      "text/html": [
       "\n",
       "<div align=\"middle\">\n",
       "<video width=\"80%\" controls>\n",
       "      <source src=\"root_locus_video_non_min_phase_zeros.mp4\" type=\"video/mp4\">\n",
       "</video></div>"
      ],
      "text/plain": [
       "<IPython.core.display.HTML object>"
      ]
     },
     "execution_count": 11,
     "metadata": {},
     "output_type": "execute_result"
    }
   ],
   "source": [
    "from IPython.display import HTML\n",
    "\n",
    "HTML(\"\"\"\n",
    "<div align=\"middle\">\n",
    "<video width=\"80%\" controls>\n",
    "      <source src=\"root_locus_video_non_min_phase_zeros.mp4\" type=\"video/mp4\">\n",
    "</video></div>\"\"\")"
   ]
  },
  {
   "cell_type": "code",
   "execution_count": null,
   "metadata": {},
   "outputs": [],
   "source": []
  }
 ],
 "metadata": {
  "kernelspec": {
   "display_name": "enel441b",
   "language": "python",
   "name": "python3"
  },
  "language_info": {
   "codemirror_mode": {
    "name": "ipython",
    "version": 3
   },
   "file_extension": ".py",
   "mimetype": "text/x-python",
   "name": "python",
   "nbconvert_exporter": "python",
   "pygments_lexer": "ipython3",
   "version": "3.10.8"
  }
 },
 "nbformat": 4,
 "nbformat_minor": 2
}
