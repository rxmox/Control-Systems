{
 "cells": [
  {
   "cell_type": "markdown",
   "id": "6f41b56e",
   "metadata": {
    "slideshow": {
     "slide_type": "slide"
    }
   },
   "source": [
    "# Unit 1 - Modelling and Representations of Systems\n",
    "# Part 3 - State Space Representation\n",
    "\n",
    "- Modelling of electrical and mechanical systems\n",
    "    - Electric circuits with resistors, capacitors, inductors, op-amps\n",
    "    - Translational mechanical systems\n",
    "    - Rotational mechanical systems\n",
    "- Simulation of a system\n",
    "    - Response due to initial conditions\n",
    "    - Step response\n",
    "    - Response to any input\n",
    "- Representations\n",
    "    - State-Space equations\n",
    "- Key Concept\n",
    "    - Poles (eigenvalues!)\n",
    "    - Zeros"
   ]
  },
  {
   "cell_type": "markdown",
   "id": "93a1e4e3",
   "metadata": {
    "slideshow": {
     "slide_type": "fragment"
    }
   },
   "source": [
    "Required viewing before this lecture\n",
    "- video series on state space representation\n",
    "\n",
    "Sections in textbook:\n",
    "- 2.4, 2.5, 9.2, 9.3\n"
   ]
  },
  {
   "cell_type": "markdown",
   "id": "46940288",
   "metadata": {
    "slideshow": {
     "slide_type": "slide"
    }
   },
   "source": [
    "# State Space\n",
    "\n",
    "Large, multi-equation systems start to become tedious to put into transfer function form (requires substituting equations into each other). This can make the transfer function error-prone. \n",
    "\n",
    "The state space representation offers a nice alternative.\n",
    "\n",
    "The main idea is to reduce high-order differential equations into an equivalent set of first order differential equations. \n",
    "\n",
    "The state-space equations have the following form:\n",
    "$$\n",
    "\\begin{align*}\n",
    "\\frac{\\text{d}x(t)}{\\text{dt}} &= Ax(t) + Bu(t), \\\\\n",
    "y(t) &= C x(t) + D u(t),\n",
    "\\end{align*}\n",
    "$$\n",
    "where $A$, $B$, $C$, $D$ are constant matrices, and $x$ is called the state vector. \n",
    "\n",
    "Any linear system can be written in state-space form. It is just another representation of a system. \n",
    "\n",
    "Advantages of State-Space:\n",
    "- Multi-input, multi-output systems are much easier to handle! This is the advent of \"Modern\" control! Enables the possibility to control more complicated systems.\n",
    "- Easier to combine multiple differential equations into one expression (don't need to substitute equations into each other)\n",
    "- Can use linear algebra to find useful properties of the system (such as the poles)\n",
    "- high-order differential equations are reduced to first order differential equations, so writing down solutions is easier.\n",
    "\n",
    "Rudolf Kalman was one of the founders of modern control theory, establishing the state-space framework.\n",
    "![Rudolf Kalman](Rudolf-E-Kálmán.jpg \"Rudolf Kalman\")\n",
    "\n",
    "source: https://www.gainesville.com/story/news/2009/10/08/obama-honors-former-uf-professor-with-science-medal/31724964007/"
   ]
  },
  {
   "cell_type": "markdown",
   "id": "7cce604c",
   "metadata": {
    "slideshow": {
     "slide_type": "slide"
    }
   },
   "source": [
    "# Using State Space to Represent a Circuit\n",
    "\n",
    "![Electric Circuit](circuit.png \"Electric Circuit\")"
   ]
  },
  {
   "cell_type": "markdown",
   "id": "ddd113b3",
   "metadata": {
    "slideshow": {
     "slide_type": "fragment"
    }
   },
   "source": [
    "# In Class Activity!\n",
    "\n",
    "Obtain a model for the circuit using state-space representation. Let $v_{in}$ be the input and $i_{L}$ be the output. \n",
    "\n",
    "For the state vector, use:\n",
    "$$\n",
    "\\begin{align*}\n",
    "x(t) = \\begin{bmatrix} v_c(t) \\\\ i_L(t) \\end{bmatrix},\n",
    "\\end{align*}\n",
    "$$\n",
    "where $v_c$ is the voltage across the capacitor, and $i_L$ is the current through the inductor. \n"
   ]
  },
  {
   "attachments": {},
   "cell_type": "markdown",
   "id": "01770367",
   "metadata": {},
   "source": [
    "I will use the following notation:\n",
    "Current through $R_1$ is denoted $i_{R_1}$, and voltage across $R$ is denoted $v_{R_1}$. Same notation for all other elements. For notational clarity, I will drop the argument $t$, but keep in mind that all currents and voltages are actually functions of time. \n",
    "\n",
    "By looking at the node between $R_1$ and $R_2$ we can write:\n",
    "$$\n",
    "\\begin{align*}\n",
    "i_{R_1} + i_{C} &= i_{R_2} \\\\\n",
    "\\frac{v_C}{R_1} + C \\frac{dv_c}{dt} &= i_L \\\\\n",
    "\\frac{dv_c}{dt} &= \\frac{1}{C}i_L - \\frac{1}{RC_1}v_c\n",
    "\\end{align*}\n",
    "$$\n",
    "\n",
    "Now look at bottom loop:\n",
    "$$\n",
    "\\begin{align*}\n",
    "-v_{in} + v_c + v_{R_2} + v_L &= 0 \\\\\n",
    "-v_{in} + v_c + i_L R_2 + L \\frac{d i_L}{dt} &= 0 \\\\\n",
    "\\frac{d i_L}{dt} &= \\frac{1}{L}v_{in} - \\frac{1}{L}v_c - \\frac{R_2}{L} i_L\n",
    "\\end{align*}\n",
    "$$\n",
    "\n",
    "We have two first order differential equations that contain only the state variables, so we are ready to write the two equations in matrix form. \n",
    "$$\n",
    "\\begin{align*}\n",
    "\\frac{dx}{dt} &= \\begin{bmatrix} \\frac{dv_c}{dt} \\\\ \\frac{di_L}{dt} \\end{bmatrix} \\\\\n",
    "&= \\begin{bmatrix} \\frac{1}{C}i_L - \\frac{1}{RC_1}v_c \\\\ \\frac{1}{L}v_{in} - \\frac{1}{L}v_c - \\frac{R_2}{L} i_L \\end{bmatrix} \\\\\n",
    "&= \\begin{bmatrix} -\\frac{1}{R_1C} & \\frac{1}{C} \\\\ -\\frac{1}{L} & -\\frac{R_2}{L} \\end{bmatrix} \\begin{bmatrix} v_c \\\\ i_L \\end{bmatrix} + \\begin{bmatrix} 0 \\\\ \\frac{1}{L} \\end{bmatrix} v_{in}\n",
    "\\end{align*}\n",
    "$$\n",
    "\n",
    "The output can also be expressed in terms of the state variables and input:\n",
    "$$\n",
    "\\begin{align*}\n",
    "y &= i_L \\\\\n",
    "&= \\begin{bmatrix} 0 & 1 \\end{bmatrix}\\begin{bmatrix} v_c \\\\ i_L \\end{bmatrix} + 0 v_{in}\n",
    "\\end{align*}\n",
    "$$\n",
    "\n",
    "Thus, we have:\n",
    "$$\n",
    "\\begin{align*}\n",
    "A &= \\begin{bmatrix} -\\frac{1}{R_1C} & \\frac{1}{C} \\\\ -\\frac{1}{L} & -\\frac{R_2}{L} \\end{bmatrix} \\\\\n",
    "B &= \\begin{bmatrix} 0 \\\\ \\frac{1}{L} \\end{bmatrix} \\\\\n",
    "C &= \\begin{bmatrix} 0 & 1 \\end{bmatrix} \\\\\n",
    "D &= 0\n",
    "\\end{align*}\n",
    "$$"
   ]
  },
  {
   "cell_type": "markdown",
   "id": "dbe8daff",
   "metadata": {
    "slideshow": {
     "slide_type": "slide"
    }
   },
   "source": [
    "# Look at another system"
   ]
  },
  {
   "cell_type": "markdown",
   "id": "a20bf27f",
   "metadata": {
    "slideshow": {
     "slide_type": "fragment"
    }
   },
   "source": [
    "![2 Disk Graphic Diagram](2diskGraphic.png \"2 Disk Graphic Diagram\")\n",
    "\n",
    "A torque is applied by a motor to a system with two disks. The disks are connected by a thin flexible rod. The rod is supported by bearings on both sides of the disks. The torque applied by the motor is known. The angular position of the right disk is measured. \n",
    "\n",
    "We will:\n",
    "- Obtain governing differential equations,\n",
    "- Construct the frequency response using the physical system,\n",
    "- Derive and analyze a state-space representation\n"
   ]
  },
  {
   "cell_type": "markdown",
   "id": "4cca0d96",
   "metadata": {
    "slideshow": {
     "slide_type": "fragment"
    }
   },
   "source": [
    "# Schematic Diagram\n",
    "![2 Disk Schematic Diagram](2diskSchematic.png \"2 Disk Schematic Diagram\")\n",
    "\n",
    "# In Class Activity! \n",
    "Draw a free body diagram for each disk that shows all the torques affecting the disk.\n",
    "- Let $\\theta_1$ be the position of disk 1, and let $\\theta_2$ be the position of disk 2.\n",
    "- For the spring torque, split it into two components, one component related to each position ($\\theta_1$ and $\\theta_2$)."
   ]
  },
  {
   "cell_type": "markdown",
   "id": "b592a03c",
   "metadata": {
    "slideshow": {
     "slide_type": "fragment"
    }
   },
   "source": [
    "# In class activity!\n",
    "\n",
    "Derive the governing differential equations for each disk. You should end up with two differential equations, one for each disk."
   ]
  },
  {
   "cell_type": "markdown",
   "id": "ec7033bf",
   "metadata": {
    "slideshow": {
     "slide_type": "fragment"
    }
   },
   "source": [
    "# In Class Activity!\n",
    "\n",
    "Using the two equations, find the transfer function from motor torque, $T_M$, to the angle of the second disk, $\\theta_2$. You can assume that the system is initially at rest (i.e. initial conditions are zero).\n",
    "\n",
    "Hint: this will require you to substitute one of the equations into the other. "
   ]
  },
  {
   "cell_type": "markdown",
   "id": "8ad24e18",
   "metadata": {
    "slideshow": {
     "slide_type": "fragment"
    }
   },
   "source": [
    "# In Class Activity\n",
    "\n",
    "- Simulate step response. What do you notice?\n",
    "- Try different parameters\n",
    "- Make S-plane plot (see code in second cell)\n"
   ]
  },
  {
   "cell_type": "code",
   "execution_count": 1,
   "id": "fa000939",
   "metadata": {
    "slideshow": {
     "slide_type": "fragment"
    }
   },
   "outputs": [
    {
     "data": {
      "image/png": "[encoded data removed]",
      "text/plain": [
       "<Figure size 640x480 with 1 Axes>"
      ]
     },
     "metadata": {},
     "output_type": "display_data"
    }
   ],
   "source": [
    "import scipy as sp\n",
    "import numpy as np\n",
    "import matplotlib.pyplot as plt\n",
    "import enel441_utilities as eu\n",
    "import math\n",
    "\n",
    "# set system parameters\n",
    "J1 = 2\n",
    "J2 = 5\n",
    "k = 1\n",
    "b = 0.5\n",
    "\n",
    "# transfer function numerator and denominator (from equations)\n",
    "num_sys = np.array([1])\n",
    "den_sys = np.array([J1*J2/k, (J1+J2)*b/k, (J1+J2+b**2/k), 2*b, 0])\n",
    "\n",
    "# generate step response\n",
    "N = 10000\n",
    "dt = 1/1000\n",
    "t = np.linspace(0,dt*N,N)\n",
    "u = np.ones((N))\n",
    "tout, yout, xout = sp.signal.lsim((num_sys,den_sys),U=u,T=t)\n",
    "#tout,yout = sp.signal.step((B,A))\n",
    "\n",
    "fig, ax = plt.subplots(1,1)\n",
    "ax.plot(t,u, label='input')\n",
    "ax.plot(tout, yout, label='output')\n",
    "ax.set_title('Step Response of System')\n",
    "ax.set_xlabel('Time (s)')\n",
    "plt.legend()\n",
    "plt.show()"
   ]
  },
  {
   "cell_type": "code",
   "execution_count": 2,
   "id": "2f4bc5f3",
   "metadata": {
    "slideshow": {
     "slide_type": "fragment"
    }
   },
   "outputs": [
    {
     "data": {
      "image/png": "[encoded data removed]",
      "text/plain": [
       "<Figure size 640x480 with 1 Axes>"
      ]
     },
     "metadata": {},
     "output_type": "display_data"
    }
   ],
   "source": [
    "import enel441_utilities as eu\n",
    "import importlib\n",
    "\n",
    "importlib.reload(eu)\n",
    "\n",
    "fig, ax = eu.enel441_s_plane_plot(num_sys,den_sys)\n"
   ]
  },
  {
   "cell_type": "markdown",
   "id": "2a6fdca6",
   "metadata": {
    "slideshow": {
     "slide_type": "slide"
    }
   },
   "source": [
    "# State-Space representation of the 2-Disk system\n",
    "\n",
    "Start with the two second-order differential equations:\n",
    "$$\n",
    "\\begin{align*}\n",
    "J_1 \\frac{\\text{d}^2 \\theta_1}{\\text{dt}^2} + b_1 \\frac{\\text{d}\\theta_1}{\\text{dt}} + k\\theta_1 - k\\theta_2 - T_M &= 0\n",
    "\\end{align*}\n",
    "$$\n",
    "and\n",
    "$$\n",
    "\\begin{align*}\n",
    "J_2 \\frac{\\text{d}^2 \\theta_2}{\\text{dt}^2} + b_2 \\frac{\\text{d}\\theta_2}{\\text{dt}} - k\\theta_1 + k\\theta_2 &= 0\n",
    "\\end{align*}\n",
    "$$\n",
    "\n",
    "Choose the following states:\n",
    "- $x_1 = \\theta_1$,\n",
    "- $x_2 = \\frac{\\text{d}\\theta_1}{\\text{dt}}$,\n",
    "- $x_3 = \\theta_2$,\n",
    "- $x_4 = \\frac{\\text{d} \\theta_2}{\\text{dt}}$.\n",
    "\n",
    "Put them in a vector:\n",
    "$$\n",
    "\\begin{align*}\n",
    "x = \\begin{bmatrix} x_1 \\\\ x_2 \\\\ x_3 \\\\ x_4 \\end{bmatrix} =\n",
    "\\begin{bmatrix} \\theta_1 \\\\ \\frac{\\text{d}\\theta_1}{\\text{dt}} \\\\ \\theta_2 \\\\\n",
    "\\frac{\\text{d} \\theta_2}{\\text{dt}} \\end{bmatrix}  \n",
    "\\end{align*}\n",
    "$$\n",
    "\n",
    "We want to find an expression of the form:\n",
    "$$\n",
    "\\begin{align*}\n",
    "\\frac{\\text{d}x}{\\text{dt}} = A x + B u\n",
    "\\end{align*}\n",
    "$$\n",
    "\n",
    "\n"
   ]
  },
  {
   "cell_type": "markdown",
   "id": "7fe1b4fc",
   "metadata": {
    "slideshow": {
     "slide_type": "fragment"
    }
   },
   "source": [
    "# In Class Activity\n",
    "Re-write the differential equations in terms of the states.\n",
    "\n",
    "Hint #1:\n",
    "- The expression for $\\frac{\\text{d}x}{\\text{dt}}$ is:\n",
    "$$\n",
    "\\begin{align*}\n",
    "\\frac{\\text{d}x}{\\text{dt}} = \\begin{bmatrix} \\frac{\\text{d}x_1}{\\text{dt}} \\\\ \\frac{\\text{d}x_2}{\\text{dt}} \\\\ \\frac{\\text{d}x_3}{\\text{dt}} \\\\ \\frac{\\text{d}x_4}{\\text{dt}} \\end{bmatrix} = \n",
    " \\begin{bmatrix} \\frac{\\text{d}\\theta_1}{\\text{dt}} \\\\ \\frac{\\text{d}^2\\theta_1}{\\text{dt}^2} \\\\ \\frac{\\text{d} \\theta_2}{\\text{dt}} \\\\\n",
    "\\frac{\\text{d}^2 \\theta_2}{\\text{dt}^2} \\end{bmatrix}\n",
    "\\end{align*}\n",
    "$$\n",
    "\n",
    "Hint #2: Starting with the two differential equations, substitute derivatives with states:\n",
    "- $\\theta_1 = x_1$,\n",
    "- $\\frac{\\text{d}\\theta_1}{\\text{dt}} = x_2$,\n",
    "- $\\theta_2 = x_3$,\n",
    "- $\\frac{\\text{d} \\theta_2}{\\text{dt}} = x_4$.\n",
    "\n",
    "Hint #3: The input for this system is the motor torque, so $u(t) = T_M(t)$.\n"
   ]
  },
  {
   "cell_type": "markdown",
   "id": "3477c3bc",
   "metadata": {
    "slideshow": {
     "slide_type": "slide"
    }
   },
   "source": [
    "# In Class Activity\n",
    "\n",
    "Compare the poles of the transfer function we calculated earlier and the eigenvalues of the A matrix."
   ]
  },
  {
   "cell_type": "code",
   "execution_count": null,
   "id": "f45cf63c",
   "metadata": {
    "slideshow": {
     "slide_type": "fragment"
    }
   },
   "outputs": [],
   "source": [
    "# set system parameters\n",
    "J1 = 2\n",
    "J2 = 10\n",
    "k = 1\n",
    "b = 0.5\n",
    "\n",
    "# define state space matrices\n",
    "A = np.array([[0, 1, 0, 0], [-k/J1, -b/J1, k/J1, 0], [0, 0, 0, 1], [k/J2, 0, -k/J2, -b/J2]]) \n",
    "B = np.array([[0], [1/J1], [0], [0]])\n",
    "C = np.array([[0, 0, 1, 0]])\n",
    "D = 0\n",
    "\n",
    "# eigenvalue decomposition of A matrix\n",
    "Lambda, T = np.linalg.eig(A)\n",
    "\n",
    "# compare eigenvalues with roots calculated earlier\n",
    "#den_sys = fill me in\n",
    "#print('Roots calculated from transfer function:', np.roots(den_sys))\n",
    "np.set_printoptions(precision=2, suppress=True)\n",
    "print('Eigenvalues of the A matrix', Lambda)"
   ]
  },
  {
   "cell_type": "markdown",
   "id": "e443fc49",
   "metadata": {
    "slideshow": {
     "slide_type": "fragment"
    }
   },
   "source": [
    "# In Class Activity\n",
    "\n",
    "Calculate the response due to initial conditions.\n",
    "\n",
    "Note that because of the way that we derived the state space representation, the initial conditions make physical sense. Look back at the transfer function we wrote down, what can we say about the initial conditions in that case?"
   ]
  },
  {
   "cell_type": "code",
   "execution_count": null,
   "id": "d956f020",
   "metadata": {
    "slideshow": {
     "slide_type": "fragment"
    }
   },
   "outputs": [],
   "source": [
    "\n",
    "\n",
    "# verfiy that the matrix T diagonalizes A\n",
    "print(np.linalg.inv(T) @ A @ T)\n",
    "\n",
    "# transform system matrices so that the A matrix is diagonal\n",
    "A_tilde = np.linalg.inv(T) @ A @ T\n",
    "B_tilde = np.linalg.inv(T) @ B\n",
    "C_tilde = C @ T\n",
    "D_tilde = D\n",
    "\n",
    "# Calculate response to initial conditions\n",
    "\n",
    "# initial condition\n",
    "x_initial = np.array([[1], [0], [-0.5], [0]])\n",
    "x_tilde_initial = np.linalg.inv(T) @ x_initial\n",
    "\n",
    "# generate data\n",
    "N = 10000\n",
    "dt = 1/100\n",
    "t = np.linspace(0,dt*N,N)\n",
    "y = np.zeros(N, dtype=np.csingle)\n",
    "ii = 0\n",
    "for pp in Lambda:\n",
    "    y += C_tilde[0,ii] * np.exp(pp*t) * x_tilde_initial[ii,0]\n",
    "    ii += 1\n",
    "   \n",
    "fig, ax = plt.subplots(1,1)\n",
    "ax.plot(t, np.real(y), label='output')\n",
    "ax.set_title('Response of System Due to Initial Conditions')\n",
    "ax.set_xlabel('Time (s)')\n",
    "ax.set_ylabel('Angle')\n",
    "\n",
    "plt.show()"
   ]
  },
  {
   "cell_type": "markdown",
   "id": "54f502c4",
   "metadata": {
    "slideshow": {
     "slide_type": "fragment"
    }
   },
   "source": [
    "# In Class Activity\n",
    "\n",
    "Plot the response of the 2-disk system to various inputs."
   ]
  },
  {
   "cell_type": "code",
   "execution_count": null,
   "id": "681f02d7",
   "metadata": {
    "slideshow": {
     "slide_type": "fragment"
    }
   },
   "outputs": [],
   "source": [
    "# set system parameters\n",
    "J1 = 2\n",
    "J2 = 10\n",
    "k = 1\n",
    "b = 0.5\n",
    "\n",
    "# define state space matrices\n",
    "A = np.array([[0, 1, 0, 0], [-k/J1, -b/J1, k/J1, 0], [0, 0, 0, 1], [k/J2, 0, -k/J2, -b/J2]]) \n",
    "B = np.array([[0], [1/J1], [0], [0]])\n",
    "C = np.array([[0, 0, 1, 0]])\n",
    "D = 0\n",
    "\n",
    "# make a step input\n",
    "u_step = np.ones((N))\n",
    "\n",
    "# make a rectangular pulse input\n",
    "n_pulse = 1000     #width of pulse in number of steps of size dt\n",
    "u_pulse = np.zeros(N)\n",
    "u_pulse[0:n_pulse] = np.ones((n_pulse))\n",
    "\n",
    "# make an input that is a single sinusoid\n",
    "f = 0.1   #frequency of sinusoid\n",
    "theta = 0 #math.pi/6\n",
    "u_sinusoid = np.sin(2*math.pi*f*t + theta)\n",
    "\n",
    "# make an input that is random\n",
    "u_rand = np.random.randn(N)\n",
    "\n",
    "# simulate the system output for selected input signal (note initial conditions are assumed to be zero)\n",
    "u = u_sinusoid\n",
    "N = 10000\n",
    "dt = 1/100\n",
    "t = np.linspace(0,dt*N,N)\n",
    "tout, yout, xout = sp.signal.lsim((A, B, C, D),U=u,T=t)\n",
    "\n",
    "# plot the response\n",
    "fig, ax = plt.subplots(1,1)\n",
    "ax.plot(t, u, label='input')\n",
    "ax.plot(tout, yout, label='output')\n",
    "ax.set_title('Response of System')\n",
    "ax.set_xlabel('Time (s)')\n",
    "ax.set_ylabel( 'Angle' )\n",
    "plt.show()"
   ]
  },
  {
   "cell_type": "code",
   "execution_count": null,
   "id": "d858da39",
   "metadata": {},
   "outputs": [],
   "source": []
  },
  {
   "cell_type": "code",
   "execution_count": null,
   "id": "bb7df0e7",
   "metadata": {},
   "outputs": [],
   "source": []
  }
 ],
 "metadata": {
  "celltoolbar": "Slideshow",
  "kernelspec": {
   "display_name": "Python 3 (ipykernel)",
   "language": "python",
   "name": "python3"
  },
  "language_info": {
   "codemirror_mode": {
    "name": "ipython",
    "version": 3
   },
   "file_extension": ".py",
   "mimetype": "text/x-python",
   "name": "python",
   "nbconvert_exporter": "python",
   "pygments_lexer": "ipython3",
   "version": "3.10.8"
  },
  "rise": {
   "scroll": true
  },
  "vscode": {
   "interpreter": {
    "hash": "98e1b4c145e722bff687764d28f1145cd6c08fc44999e411097fe10222cdba68"
   }
  }
 },
 "nbformat": 4,
 "nbformat_minor": 5
}
